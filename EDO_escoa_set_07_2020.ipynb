{
  "nbformat": 4,
  "nbformat_minor": 0,
  "metadata": {
    "colab": {
      "name": "EDO_escoa_set_07_2020.ipynb",
      "provenance": [],
      "collapsed_sections": [],
      "authorship_tag": "ABX9TyOB2YRSFnyN2izSTsfsf+5j",
      "include_colab_link": true
    },
    "kernelspec": {
      "name": "python3",
      "display_name": "Python 3"
    }
  },
  "cells": [
    {
      "cell_type": "markdown",
      "metadata": {
        "id": "view-in-github",
        "colab_type": "text"
      },
      "source": [
        "<a href=\"https://colab.research.google.com/github/ucfilho/Math_Methods/blob/master/EDO_escoa_set_07_2020.ipynb\" target=\"_parent\"><img src=\"https://colab.research.google.com/assets/colab-badge.svg\" alt=\"Open In Colab\"/></a>"
      ]
    },
    {
      "cell_type": "code",
      "metadata": {
        "id": "7I6ZPuEb_ifj",
        "colab_type": "code",
        "colab": {}
      },
      "source": [
        "from sympy import *"
      ],
      "execution_count": 1,
      "outputs": []
    },
    {
      "cell_type": "code",
      "metadata": {
        "id": "1gNTl2fJ_6PP",
        "colab_type": "code",
        "colab": {}
      },
      "source": [
        "g= Symbol('g', positive=True)\n",
        "R= Symbol('R', positive=True)\n",
        "ro= Symbol('ro', positive=True)\n",
        "c= Symbol('c', positive=True)"
      ],
      "execution_count": 2,
      "outputs": []
    },
    {
      "cell_type": "code",
      "metadata": {
        "id": "Hzznd-_kAPbA",
        "colab_type": "code",
        "colab": {}
      },
      "source": [
        "h =symbols('h', cls=Function)\n",
        "t= symbols('t')"
      ],
      "execution_count": 3,
      "outputs": []
    },
    {
      "cell_type": "code",
      "metadata": {
        "id": "oDmZvPoKATup",
        "colab_type": "code",
        "colab": {}
      },
      "source": [
        "diffeq = Eq(pi/3*(6*h(t)*R-3*h(t)**2)*h(t).diff(t) , -c*sqrt(2*g*h(t))*pi*ro**2)"
      ],
      "execution_count": 4,
      "outputs": []
    },
    {
      "cell_type": "code",
      "metadata": {
        "id": "xB-5SgWVBJ6Y",
        "colab_type": "code",
        "colab": {
          "base_uri": "https://localhost:8080/",
          "height": 34
        },
        "outputId": "b39d1477-fe77-4dda-cbf2-ebc21805122f"
      },
      "source": [
        "diffeq"
      ],
      "execution_count": 5,
      "outputs": [
        {
          "output_type": "execute_result",
          "data": {
            "text/plain": [
              "Eq(pi*(6*R*h(t) - 2*h(t)**2)*Derivative(h(t), t)/3, -sqrt(2)*pi*c*sqrt(g)*ro**2*sqrt(h(t)))"
            ]
          },
          "metadata": {
            "tags": []
          },
          "execution_count": 5
        }
      ]
    },
    {
      "cell_type": "code",
      "metadata": {
        "id": "LJW7rxZ6Bmco",
        "colab_type": "code",
        "colab": {}
      },
      "source": [
        "soln = dsolve(diffeq,h(t))"
      ],
      "execution_count": 6,
      "outputs": []
    },
    {
      "cell_type": "code",
      "metadata": {
        "id": "rNRxB6XMBRuw",
        "colab_type": "code",
        "colab": {
          "base_uri": "https://localhost:8080/",
          "height": 54
        },
        "outputId": "e37b0fa7-dc09-4fdc-a8c7-c24fccf4095b"
      },
      "source": [
        "soln"
      ],
      "execution_count": 7,
      "outputs": [
        {
          "output_type": "execute_result",
          "data": {
            "text/plain": [
              "Eq(4*pi*(-18*sqrt(3)*R**(7/2)/h(t) - 6*sqrt(3)*R**(5/2)*(-3*R + h(t))/h(t) + 18*R**3/sqrt(h(t)) + 3*R**2*(-3*R + h(t))/sqrt(h(t)) - 4*R*(-3*R + h(t))**2/sqrt(h(t)) - (-3*R + h(t))**3/sqrt(h(t)))/15, C1 - sqrt(2)*pi*c*sqrt(g)*ro**2*t)"
            ]
          },
          "metadata": {
            "tags": []
          },
          "execution_count": 7
        }
      ]
    },
    {
      "cell_type": "code",
      "metadata": {
        "id": "yP9fLI_bC8hw",
        "colab_type": "code",
        "colab": {}
      },
      "source": [
        "soln=soln.simplify()"
      ],
      "execution_count": 8,
      "outputs": []
    },
    {
      "cell_type": "code",
      "metadata": {
        "id": "r0088KCFEN0g",
        "colab_type": "code",
        "colab": {
          "base_uri": "https://localhost:8080/",
          "height": 34
        },
        "outputId": "46502305-e574-437d-f1be-05163048d8c8"
      },
      "source": [
        "soln"
      ],
      "execution_count": 9,
      "outputs": [
        {
          "output_type": "execute_result",
          "data": {
            "text/plain": [
              "Eq(C1 - sqrt(2)*pi*c*sqrt(g)*ro**2*t, 4*pi*(-6*sqrt(3)*R**(5/2) + 5*R*h(t)**(3/2) - h(t)**(5/2))/15)"
            ]
          },
          "metadata": {
            "tags": []
          },
          "execution_count": 9
        }
      ]
    },
    {
      "cell_type": "code",
      "metadata": {
        "id": "DnjbhNDoBOca",
        "colab_type": "code",
        "colab": {
          "base_uri": "https://localhost:8080/",
          "height": 34
        },
        "outputId": "67ff5a2a-cfe8-4831-d9a3-bc2e39bb8a80"
      },
      "source": [
        "p1 = soln.subs([(t, 0), (h(0), R)])\n",
        "C1=symbols('C1')\n",
        "solve(p1,C1)"
      ],
      "execution_count": 10,
      "outputs": [
        {
          "output_type": "execute_result",
          "data": {
            "text/plain": [
              "[8*pi*R**(5/2)*(-3*sqrt(3) + 2)/15]"
            ]
          },
          "metadata": {
            "tags": []
          },
          "execution_count": 10
        }
      ]
    }
  ]
}