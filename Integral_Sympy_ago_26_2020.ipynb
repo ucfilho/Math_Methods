{
  "nbformat": 4,
  "nbformat_minor": 0,
  "metadata": {
    "colab": {
      "name": "Integral_Sympy_ago_26_2020.ipynb",
      "provenance": [],
      "authorship_tag": "ABX9TyPr3SUG1oz0A+IVPL/pqUOh",
      "include_colab_link": true
    },
    "kernelspec": {
      "name": "python3",
      "display_name": "Python 3"
    }
  },
  "cells": [
    {
      "cell_type": "markdown",
      "metadata": {
        "id": "view-in-github",
        "colab_type": "text"
      },
      "source": [
        "<a href=\"https://colab.research.google.com/github/ucfilho/Math_Methods/blob/master/Integral_Sympy_ago_26_2020.ipynb\" target=\"_parent\"><img src=\"https://colab.research.google.com/assets/colab-badge.svg\" alt=\"Open In Colab\"/></a>"
      ]
    },
    {
      "cell_type": "code",
      "metadata": {
        "id": "mk99EFhWHWKl",
        "colab_type": "code",
        "colab": {}
      },
      "source": [
        "from sympy import *"
      ],
      "execution_count": 1,
      "outputs": []
    },
    {
      "cell_type": "code",
      "metadata": {
        "id": "7LIu5_tRHb3D",
        "colab_type": "code",
        "colab": {
          "base_uri": "https://localhost:8080/",
          "height": 39
        },
        "outputId": "c40dfeab-5dd3-44be-b37a-12fa8ac43e56"
      },
      "source": [
        "init_printing(use_unicode=False, wrap_line=False)\n",
        "x = Symbol('x')\n",
        "integrate(1/(x**2*(x + 1)**2), x)"
      ],
      "execution_count": 2,
      "outputs": [
        {
          "output_type": "execute_result",
          "data": {
            "image/png": "[encoded data removed]",
            "text/latex": "$$- \\frac{2 x + 1}{x^{2} + x} - 2 \\log{\\left (x \\right )} + 2 \\log{\\left (x + 1 \\right )}$$",
            "text/plain": [
              "  2*x + 1                          \n",
              "- ------- - 2*log(x) + 2*log(x + 1)\n",
              "    2                              \n",
              "   x  + x                          "
            ]
          },
          "metadata": {
            "tags": []
          },
          "execution_count": 2
        }
      ]
    },
    {
      "cell_type": "code",
      "metadata": {
        "id": "1wxAGf4RIVRf",
        "colab_type": "code",
        "colab": {
          "base_uri": "https://localhost:8080/",
          "height": 41
        },
        "outputId": "813a1d20-c4f1-4ab2-ab65-d689f5387364"
      },
      "source": [
        "init_printing(use_unicode=False, wrap_line=False)\n",
        "h = Symbol('h')\n",
        "a = Symbol('a', positive=True)\n",
        "b = Symbol('b', positive=True)\n",
        "integrate(1/(a-b*h**(1/2)), h)"
      ],
      "execution_count": 3,
      "outputs": [
        {
          "output_type": "execute_result",
          "data": {
            "image/png": "[encoded data removed]",
            "text/latex": "$$- \\frac{2.0 a}{b^{2}} \\log{\\left (- \\frac{a}{b} + h^{0.5} \\right )} - \\frac{2.0 h^{0.5}}{b}$$",
            "text/plain": [
              "           /  a    0.5\\           \n",
              "  2.0*a*log|- - + h   |        0.5\n",
              "           \\  b       /   2.0*h   \n",
              "- --------------------- - --------\n",
              "             2               b    \n",
              "            b                     "
            ]
          },
          "metadata": {
            "tags": []
          },
          "execution_count": 3
        }
      ]
    }
  ]
}