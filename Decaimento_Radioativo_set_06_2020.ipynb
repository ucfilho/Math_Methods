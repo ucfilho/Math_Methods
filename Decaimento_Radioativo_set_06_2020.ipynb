{
  "nbformat": 4,
  "nbformat_minor": 0,
  "metadata": {
    "colab": {
      "name": "Decaimento_Radioativo_set_06_2020.ipynb",
      "provenance": [],
      "authorship_tag": "ABX9TyNzIu5lYe7arhK2PYHf64JK",
      "include_colab_link": true
    },
    "kernelspec": {
      "name": "python3",
      "display_name": "Python 3"
    }
  },
  "cells": [
    {
      "cell_type": "markdown",
      "metadata": {
        "id": "view-in-github",
        "colab_type": "text"
      },
      "source": [
        "<a href=\"https://colab.research.google.com/github/ucfilho/Math_Methods/blob/master/Decaimento_Radioativo_set_06_2020.ipynb\" target=\"_parent\"><img src=\"https://colab.research.google.com/assets/colab-badge.svg\" alt=\"Open In Colab\"/></a>"
      ]
    },
    {
      "cell_type": "code",
      "metadata": {
        "id": "Eqtpky67Um9c",
        "colab_type": "code",
        "colab": {}
      },
      "source": [
        "from sympy import *"
      ],
      "execution_count": 1,
      "outputs": []
    },
    {
      "cell_type": "code",
      "metadata": {
        "id": "jNWxpoJdUp9f",
        "colab_type": "code",
        "colab": {}
      },
      "source": [
        "Cb =symbols('Cb', cls=Function)\n",
        "t= symbols('t')"
      ],
      "execution_count": 2,
      "outputs": []
    },
    {
      "cell_type": "code",
      "metadata": {
        "id": "b7NmNG8qU2TR",
        "colab_type": "code",
        "colab": {}
      },
      "source": [
        "diffeq = Eq(Cb(t).diff(t) , 50*exp(-10*t)-2*Cb(t))"
      ],
      "execution_count": 3,
      "outputs": []
    },
    {
      "cell_type": "code",
      "metadata": {
        "id": "S8kb_yXEVNg8",
        "colab_type": "code",
        "colab": {
          "base_uri": "https://localhost:8080/",
          "height": 34
        },
        "outputId": "08a99b54-08df-45cc-aed7-6ba21c9b4cdb"
      },
      "source": [
        "diffeq"
      ],
      "execution_count": 4,
      "outputs": [
        {
          "output_type": "execute_result",
          "data": {
            "text/plain": [
              "Eq(Derivative(Cb(t), t), -2*Cb(t) + 50*exp(-10*t))"
            ]
          },
          "metadata": {
            "tags": []
          },
          "execution_count": 4
        }
      ]
    },
    {
      "cell_type": "code",
      "metadata": {
        "id": "QGC83mEvVSry",
        "colab_type": "code",
        "colab": {}
      },
      "source": [
        "soln = dsolve(diffeq,Cb(t))"
      ],
      "execution_count": 5,
      "outputs": []
    },
    {
      "cell_type": "code",
      "metadata": {
        "id": "4hd2-9CgVU8J",
        "colab_type": "code",
        "colab": {
          "base_uri": "https://localhost:8080/",
          "height": 34
        },
        "outputId": "220c13cb-6796-46fe-c87d-1e11d525f5e9"
      },
      "source": [
        "soln"
      ],
      "execution_count": 6,
      "outputs": [
        {
          "output_type": "execute_result",
          "data": {
            "text/plain": [
              "Eq(Cb(t), (C1 - 25*exp(-8*t)/4)*exp(-2*t))"
            ]
          },
          "metadata": {
            "tags": []
          },
          "execution_count": 6
        }
      ]
    },
    {
      "cell_type": "code",
      "metadata": {
        "id": "Df9Z78dCVrm_",
        "colab_type": "code",
        "colab": {
          "base_uri": "https://localhost:8080/",
          "height": 34
        },
        "outputId": "d3a8cad7-1b77-453d-869e-5697d02f69b1"
      },
      "source": [
        "p1 = soln.subs([(t, 0), (Cb(0), 0)])\n",
        "C1=symbols('C1')\n",
        "solve(p1,C1)"
      ],
      "execution_count": 7,
      "outputs": [
        {
          "output_type": "execute_result",
          "data": {
            "text/plain": [
              "[25/4]"
            ]
          },
          "metadata": {
            "tags": []
          },
          "execution_count": 7
        }
      ]
    },
    {
      "cell_type": "code",
      "metadata": {
        "id": "Kj7zW9y7YSfF",
        "colab_type": "code",
        "colab": {
          "base_uri": "https://localhost:8080/",
          "height": 34
        },
        "outputId": "366ee669-2f97-47dd-c4f5-815737042881"
      },
      "source": [
        "Cb =symbols('Cb', cls=Function)\n",
        "t= symbols('t')\n",
        "dCb_dt=diff((25/4 - 25*exp(-8*t)/4)*exp(-2*t),t)\n",
        "dCb_dt"
      ],
      "execution_count": 11,
      "outputs": [
        {
          "output_type": "execute_result",
          "data": {
            "text/plain": [
              "-2*(6.25 - 25*exp(-8*t)/4)*exp(-2*t) + 50*exp(-10*t)"
            ]
          },
          "metadata": {
            "tags": []
          },
          "execution_count": 11
        }
      ]
    }
  ]
}