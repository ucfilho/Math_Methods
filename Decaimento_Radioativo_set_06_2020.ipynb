{
  "nbformat": 4,
  "nbformat_minor": 0,
  "metadata": {
    "colab": {
      "name": "Decaimento_Radioativo_set_06_2020.ipynb",
      "provenance": [],
      "authorship_tag": "ABX9TyOR40KJHeJcpZ0XHueYVszH",
      "include_colab_link": true
    },
    "kernelspec": {
      "name": "python3",
      "display_name": "Python 3"
    }
  },
  "cells": [
    {
      "cell_type": "markdown",
      "metadata": {
        "id": "view-in-github",
        "colab_type": "text"
      },
      "source": [
        "<a href=\"https://colab.research.google.com/github/ucfilho/Math_Methods/blob/master/Decaimento_Radioativo_set_06_2020.ipynb\" target=\"_parent\"><img src=\"https://colab.research.google.com/assets/colab-badge.svg\" alt=\"Open In Colab\"/></a>"
      ]
    },
    {
      "cell_type": "code",
      "metadata": {
        "id": "Eqtpky67Um9c",
        "colab_type": "code",
        "colab": {}
      },
      "source": [
        "from sympy import *"
      ],
      "execution_count": 1,
      "outputs": []
    },
    {
      "cell_type": "code",
      "metadata": {
        "id": "jNWxpoJdUp9f",
        "colab_type": "code",
        "colab": {}
      },
      "source": [
        "Cb =symbols('Cb', cls=Function)\n",
        "t= symbols('t')"
      ],
      "execution_count": 2,
      "outputs": []
    },
    {
      "cell_type": "code",
      "metadata": {
        "id": "b7NmNG8qU2TR",
        "colab_type": "code",
        "colab": {}
      },
      "source": [
        "diffeq = Eq(Cb(t).diff(t) , 50*exp(-10*t)-2*Cb(t))"
      ],
      "execution_count": 3,
      "outputs": []
    },
    {
      "cell_type": "code",
      "metadata": {
        "id": "S8kb_yXEVNg8",
        "colab_type": "code",
        "colab": {
          "base_uri": "https://localhost:8080/",
          "height": 34
        },
        "outputId": "585165fd-f385-46da-de80-5424c9908919"
      },
      "source": [
        "diffeq"
      ],
      "execution_count": 4,
      "outputs": [
        {
          "output_type": "execute_result",
          "data": {
            "text/plain": [
              "Eq(Derivative(Cb(t), t), -2*Cb(t) + 50*exp(-10*t))"
            ]
          },
          "metadata": {
            "tags": []
          },
          "execution_count": 4
        }
      ]
    },
    {
      "cell_type": "code",
      "metadata": {
        "id": "QGC83mEvVSry",
        "colab_type": "code",
        "colab": {}
      },
      "source": [
        "soln = dsolve(diffeq,Cb(t))"
      ],
      "execution_count": 5,
      "outputs": []
    },
    {
      "cell_type": "code",
      "metadata": {
        "id": "4hd2-9CgVU8J",
        "colab_type": "code",
        "colab": {
          "base_uri": "https://localhost:8080/",
          "height": 34
        },
        "outputId": "481f432d-2c46-49d8-b4ac-dc78e608341c"
      },
      "source": [
        "soln"
      ],
      "execution_count": 6,
      "outputs": [
        {
          "output_type": "execute_result",
          "data": {
            "text/plain": [
              "Eq(Cb(t), (C1 - 25*exp(-8*t)/4)*exp(-2*t))"
            ]
          },
          "metadata": {
            "tags": []
          },
          "execution_count": 6
        }
      ]
    },
    {
      "cell_type": "code",
      "metadata": {
        "id": "Df9Z78dCVrm_",
        "colab_type": "code",
        "colab": {
          "base_uri": "https://localhost:8080/",
          "height": 34
        },
        "outputId": "c66e7ca6-7ecb-4cc7-e4d6-6df95bd4b1a9"
      },
      "source": [
        "p1 = soln.subs([(t, 0), (Cb(0), 0)])\n",
        "C1=symbols('C1')\n",
        "solve(p1,C1)"
      ],
      "execution_count": 7,
      "outputs": [
        {
          "output_type": "execute_result",
          "data": {
            "text/plain": [
              "[25/4]"
            ]
          },
          "metadata": {
            "tags": []
          },
          "execution_count": 7
        }
      ]
    }
  ]
}