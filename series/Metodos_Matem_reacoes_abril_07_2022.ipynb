{
  "nbformat": 4,
  "nbformat_minor": 0,
  "metadata": {
    "colab": {
      "name": "Metodos_Matem_reacoes_abril_07_2022.ipynb",
      "provenance": [],
      "authorship_tag": "ABX9TyN2QODnGEWUaKABRJghUleK",
      "include_colab_link": true
    },
    "kernelspec": {
      "name": "python3",
      "display_name": "Python 3"
    },
    "language_info": {
      "name": "python"
    }
  },
  "cells": [
    {
      "cell_type": "markdown",
      "metadata": {
        "id": "view-in-github",
        "colab_type": "text"
      },
      "source": [
        "<a href=\"https://colab.research.google.com/github/ucfilho/Math_Methods/blob/master/series/Metodos_Matem_reacoes_abril_07_2022.ipynb\" target=\"_parent\"><img src=\"https://colab.research.google.com/assets/colab-badge.svg\" alt=\"Open In Colab\"/></a>"
      ]
    },
    {
      "cell_type": "code",
      "execution_count": 28,
      "metadata": {
        "id": "gWIGnMKb6qML"
      },
      "outputs": [],
      "source": [
        "import matplotlib.pyplot  as mlp\n",
        "import numpy as np"
      ]
    },
    {
      "cell_type": "code",
      "source": [
        "k1 = 2\n",
        "k2 = 1\n",
        "A0 = 10\n",
        "B0 =0\n",
        "C0 = 0\n",
        "t = 2\n",
        "X = 1 + k1*A0*t\n",
        "num = 20\n",
        "soma1 = 0\n",
        "soma2 = 0\n",
        "alfa = k2/(k1*A0)\n",
        "for k in range(num):\n",
        "  i = k + 1\n",
        "  prod = 1\n",
        "  for ii in range(i):\n",
        "    prod = prod*(ii+1)\n",
        "  numerador1 = (alfa*X)**i\n",
        "  denominador1 = i*prod\n",
        "  numerador2 = (alfa)**i\n",
        "  denominador2 = i*prod\n",
        "  soma1 = soma1 + numerador1/denominador1\n",
        "  soma2 = soma2 + numerador2/denominador2\n",
        "  valor = 1- 1/X+ alfa*np.log(X)+alfa*soma1-alfa*soma2\n",
        "  B = np.exp(-k2*t)*(A0*np.exp(-alfa)*(valor))\n",
        "print('soma1=',denominador1)\n",
        "print('soma2=',denominador2)\n",
        "print(B)"
      ],
      "metadata": {
        "colab": {
          "base_uri": "https://localhost:8080/"
        },
        "id": "Flea2pad62qo",
        "outputId": "1112367d-e9a9-4c49-d8e0-47df2c719e1c"
      },
      "execution_count": 29,
      "outputs": [
        {
          "output_type": "stream",
          "name": "stdout",
          "text": [
            "soma1= 48658040163532800000\n",
            "soma2= 48658040163532800000\n",
            "1.7392979080980984\n"
          ]
        }
      ]
    },
    {
      "cell_type": "code",
      "source": [
        "# 1.7392974421118157"
      ],
      "metadata": {
        "id": "nb3pHarkGLrw"
      },
      "execution_count": 30,
      "outputs": []
    }
  ]
}