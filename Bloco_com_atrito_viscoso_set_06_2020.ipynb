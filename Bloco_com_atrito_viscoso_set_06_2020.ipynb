{
  "nbformat": 4,
  "nbformat_minor": 0,
  "metadata": {
    "colab": {
      "name": "Bloco_com_atrito_viscoso_set_06_2020.ipynb",
      "provenance": [],
      "authorship_tag": "ABX9TyM+o0Qi9ADDufWLQGepmZ9c",
      "include_colab_link": true
    },
    "kernelspec": {
      "name": "python3",
      "display_name": "Python 3"
    }
  },
  "cells": [
    {
      "cell_type": "markdown",
      "metadata": {
        "id": "view-in-github",
        "colab_type": "text"
      },
      "source": [
        "<a href=\"https://colab.research.google.com/github/ucfilho/Math_Methods/blob/master/Bloco_com_atrito_viscoso_set_06_2020.ipynb\" target=\"_parent\"><img src=\"https://colab.research.google.com/assets/colab-badge.svg\" alt=\"Open In Colab\"/></a>"
      ]
    },
    {
      "cell_type": "code",
      "metadata": {
        "id": "libuANw69X51",
        "colab_type": "code",
        "colab": {}
      },
      "source": [
        "from sympy import *"
      ],
      "execution_count": 1,
      "outputs": []
    },
    {
      "cell_type": "code",
      "metadata": {
        "id": "UImhhPO79aec",
        "colab_type": "code",
        "colab": {}
      },
      "source": [
        "e= Symbol('e', positive=True)\n",
        "mi = Symbol('mi', positive=True)\n",
        "g = Symbol('g', positive=True)\n",
        "A= Symbol('A', positive=True)\n",
        "m= Symbol('m', positive=True)\n",
        "sen_a = Symbol('sen_a', positive=True)"
      ],
      "execution_count": 2,
      "outputs": []
    },
    {
      "cell_type": "code",
      "metadata": {
        "id": "IkWlaGaK94Xe",
        "colab_type": "code",
        "colab": {}
      },
      "source": [
        "u =symbols('u', cls=Function)\n",
        "t= symbols('t')"
      ],
      "execution_count": 3,
      "outputs": []
    },
    {
      "cell_type": "code",
      "metadata": {
        "id": "om7ylId99-NH",
        "colab_type": "code",
        "colab": {}
      },
      "source": [
        "diffeq = Eq(m*u(t).diff(t) , m*g*sen_a-mi*A*u(t)/e)"
      ],
      "execution_count": 4,
      "outputs": []
    },
    {
      "cell_type": "code",
      "metadata": {
        "id": "E4CkPr7x-qjK",
        "colab_type": "code",
        "colab": {
          "base_uri": "https://localhost:8080/",
          "height": 34
        },
        "outputId": "caebad7e-63ae-4737-929d-20dbce585de2"
      },
      "source": [
        "diffeq"
      ],
      "execution_count": 5,
      "outputs": [
        {
          "output_type": "execute_result",
          "data": {
            "text/plain": [
              "Eq(m*Derivative(u(t), t), -A*mi*u(t)/e + g*m*sen_a)"
            ]
          },
          "metadata": {
            "tags": []
          },
          "execution_count": 5
        }
      ]
    },
    {
      "cell_type": "code",
      "metadata": {
        "id": "jECCcmdx-vX6",
        "colab_type": "code",
        "colab": {}
      },
      "source": [
        "soln = dsolve(diffeq,u(t))"
      ],
      "execution_count": 6,
      "outputs": []
    },
    {
      "cell_type": "code",
      "metadata": {
        "id": "DG1Hru26-zVI",
        "colab_type": "code",
        "colab": {
          "base_uri": "https://localhost:8080/",
          "height": 34
        },
        "outputId": "6d4610f0-4887-4390-9eee-b5a9be6835ce"
      },
      "source": [
        "soln"
      ],
      "execution_count": 7,
      "outputs": [
        {
          "output_type": "execute_result",
          "data": {
            "text/plain": [
              "Eq(u(t), (e*g*m*sen_a + exp(A*mi*(C1 - t/e)/m))/(A*mi))"
            ]
          },
          "metadata": {
            "tags": []
          },
          "execution_count": 7
        }
      ]
    },
    {
      "cell_type": "code",
      "metadata": {
        "id": "w862IOXlGx2a",
        "colab_type": "code",
        "colab": {
          "base_uri": "https://localhost:8080/",
          "height": 34
        },
        "outputId": "956f0d19-8d9c-4556-c3e3-95401aefffd5"
      },
      "source": [
        "p1 = soln.subs([(t, 0), (u(0), 0)])\n",
        "C1=symbols('C1')\n",
        "solve(p1,C1)"
      ],
      "execution_count": 13,
      "outputs": [
        {
          "output_type": "execute_result",
          "data": {
            "text/plain": [
              "[m*log(-e*g*m*sen_a)/(A*mi)]"
            ]
          },
          "metadata": {
            "tags": []
          },
          "execution_count": 13
        }
      ]
    }
  ]
}