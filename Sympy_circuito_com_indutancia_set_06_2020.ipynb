{
  "nbformat": 4,
  "nbformat_minor": 0,
  "metadata": {
    "colab": {
      "name": "Sympy_circuito_com_indutancia_set_06_2020.ipynb",
      "provenance": [],
      "authorship_tag": "ABX9TyP3gWGgy338VZtSh0Np2bHV",
      "include_colab_link": true
    },
    "kernelspec": {
      "name": "python3",
      "display_name": "Python 3"
    }
  },
  "cells": [
    {
      "cell_type": "markdown",
      "metadata": {
        "id": "view-in-github",
        "colab_type": "text"
      },
      "source": [
        "<a href=\"https://colab.research.google.com/github/ucfilho/Math_Methods/blob/master/Sympy_circuito_com_indutancia_set_06_2020.ipynb\" target=\"_parent\"><img src=\"https://colab.research.google.com/assets/colab-badge.svg\" alt=\"Open In Colab\"/></a>"
      ]
    },
    {
      "cell_type": "code",
      "metadata": {
        "id": "eV2PaJovrb38",
        "colab_type": "code",
        "colab": {}
      },
      "source": [
        "from sympy import *"
      ],
      "execution_count": 1,
      "outputs": []
    },
    {
      "cell_type": "code",
      "metadata": {
        "id": "3IBkXtIgreO2",
        "colab_type": "code",
        "colab": {}
      },
      "source": [
        "R= Symbol('R', positive=True)\n",
        "L = Symbol('L', positive=True)\n",
        "W = Symbol('W', positive=True)\n",
        "E= Symbol('E', positive=True)"
      ],
      "execution_count": 2,
      "outputs": []
    },
    {
      "cell_type": "code",
      "metadata": {
        "id": "TorBfJORrvJ0",
        "colab_type": "code",
        "colab": {}
      },
      "source": [
        "I =symbols('I', cls=Function)\n",
        "t= symbols('t')"
      ],
      "execution_count": 3,
      "outputs": []
    },
    {
      "cell_type": "code",
      "metadata": {
        "id": "L8BT_EBqsLoq",
        "colab_type": "code",
        "colab": {}
      },
      "source": [
        "diffeq = Eq(L*I(t).diff(t) +R*I(t), E*sin(W*t))"
      ],
      "execution_count": 4,
      "outputs": []
    },
    {
      "cell_type": "code",
      "metadata": {
        "id": "30gWdd-4s7za",
        "colab_type": "code",
        "colab": {
          "base_uri": "https://localhost:8080/",
          "height": 34
        },
        "outputId": "fac25dee-e7b9-40ce-c787-af08c79be5a0"
      },
      "source": [
        "diffeq"
      ],
      "execution_count": 5,
      "outputs": [
        {
          "output_type": "execute_result",
          "data": {
            "text/plain": [
              "Eq(L*Derivative(I(t), t) + R*I(t), E*sin(W*t))"
            ]
          },
          "metadata": {
            "tags": []
          },
          "execution_count": 5
        }
      ]
    },
    {
      "cell_type": "code",
      "metadata": {
        "id": "NhOwE3Qts9LB",
        "colab_type": "code",
        "colab": {}
      },
      "source": [
        "soln = dsolve(diffeq,I(t))"
      ],
      "execution_count": 6,
      "outputs": []
    },
    {
      "cell_type": "code",
      "metadata": {
        "id": "HFb2Lou3tDv8",
        "colab_type": "code",
        "colab": {
          "base_uri": "https://localhost:8080/",
          "height": 34
        },
        "outputId": "9cb8375c-2ba5-4bbe-cdfa-eced6490063b"
      },
      "source": [
        "soln"
      ],
      "execution_count": 7,
      "outputs": [
        {
          "output_type": "execute_result",
          "data": {
            "text/plain": [
              "Eq(I(t), (C1 + E*(-L*W*cos(W*t) + R*sin(W*t))*exp(R*t/L)/(L**2*W**2 + R**2))*exp(-R*t/L))"
            ]
          },
          "metadata": {
            "tags": []
          },
          "execution_count": 7
        }
      ]
    }
  ]
}