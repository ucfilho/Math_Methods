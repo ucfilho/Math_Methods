{
  "nbformat": 4,
  "nbformat_minor": 0,
  "metadata": {
    "colab": {
      "name": "Sympy_circuito_com_indutancia_set_06_2020.ipynb",
      "provenance": [],
      "authorship_tag": "ABX9TyOu51Y/Iz969NClKcJCxsfa",
      "include_colab_link": true
    },
    "kernelspec": {
      "name": "python3",
      "display_name": "Python 3"
    }
  },
  "cells": [
    {
      "cell_type": "markdown",
      "metadata": {
        "id": "view-in-github",
        "colab_type": "text"
      },
      "source": [
        "<a href=\"https://colab.research.google.com/github/ucfilho/Math_Methods/blob/master/Sympy_circuito_com_indutancia_set_06_2020.ipynb\" target=\"_parent\"><img src=\"https://colab.research.google.com/assets/colab-badge.svg\" alt=\"Open In Colab\"/></a>"
      ]
    },
    {
      "cell_type": "code",
      "metadata": {
        "id": "eV2PaJovrb38",
        "colab_type": "code",
        "colab": {}
      },
      "source": [
        "from sympy import *"
      ],
      "execution_count": 1,
      "outputs": []
    },
    {
      "cell_type": "code",
      "metadata": {
        "id": "3IBkXtIgreO2",
        "colab_type": "code",
        "colab": {}
      },
      "source": [
        "R= Symbol('R', positive=True)\n",
        "L = Symbol('L', positive=True)\n",
        "W = Symbol('W', positive=True)\n",
        "E= Symbol('E', positive=True)"
      ],
      "execution_count": 2,
      "outputs": []
    },
    {
      "cell_type": "code",
      "metadata": {
        "id": "TorBfJORrvJ0",
        "colab_type": "code",
        "colab": {}
      },
      "source": [
        "I =symbols('I', cls=Function)\n",
        "t= symbols('t')"
      ],
      "execution_count": 3,
      "outputs": []
    },
    {
      "cell_type": "code",
      "metadata": {
        "id": "L8BT_EBqsLoq",
        "colab_type": "code",
        "colab": {}
      },
      "source": [
        "diffeq = Eq(L*I(t).diff(t) +R*I(t), E*sin(W*t))"
      ],
      "execution_count": 4,
      "outputs": []
    },
    {
      "cell_type": "code",
      "metadata": {
        "id": "30gWdd-4s7za",
        "colab_type": "code",
        "colab": {
          "base_uri": "https://localhost:8080/",
          "height": 34
        },
        "outputId": "f1f141ab-22be-4d40-fb01-702a86df1f00"
      },
      "source": [
        "diffeq"
      ],
      "execution_count": 5,
      "outputs": [
        {
          "output_type": "execute_result",
          "data": {
            "text/plain": [
              "Eq(L*Derivative(I(t), t) + R*I(t), E*sin(W*t))"
            ]
          },
          "metadata": {
            "tags": []
          },
          "execution_count": 5
        }
      ]
    },
    {
      "cell_type": "code",
      "metadata": {
        "id": "NhOwE3Qts9LB",
        "colab_type": "code",
        "colab": {}
      },
      "source": [
        "soln = dsolve(diffeq,I(t))"
      ],
      "execution_count": 6,
      "outputs": []
    },
    {
      "cell_type": "code",
      "metadata": {
        "id": "HFb2Lou3tDv8",
        "colab_type": "code",
        "colab": {
          "base_uri": "https://localhost:8080/",
          "height": 34
        },
        "outputId": "f35d6393-6aa4-4c63-9de6-b30edc39c666"
      },
      "source": [
        "soln"
      ],
      "execution_count": 7,
      "outputs": [
        {
          "output_type": "execute_result",
          "data": {
            "text/plain": [
              "Eq(I(t), (C1 + E*(-L*W*cos(W*t) + R*sin(W*t))*exp(R*t/L)/(L**2*W**2 + R**2))*exp(-R*t/L))"
            ]
          },
          "metadata": {
            "tags": []
          },
          "execution_count": 7
        }
      ]
    },
    {
      "cell_type": "code",
      "metadata": {
        "id": "ztg_8MrVoo5T",
        "colab_type": "code",
        "colab": {
          "base_uri": "https://localhost:8080/",
          "height": 34
        },
        "outputId": "8da0965e-fc38-406e-94c5-1f57daf97ae6"
      },
      "source": [
        "constants = solve([soln.rhs.subs(t,0) - 0])\n",
        "constants"
      ],
      "execution_count": 9,
      "outputs": [
        {
          "output_type": "execute_result",
          "data": {
            "text/plain": [
              "[{C1: E*L*W/(L**2*W**2 + R**2)}]"
            ]
          },
          "metadata": {
            "tags": []
          },
          "execution_count": 9
        }
      ]
    }
  ]
}