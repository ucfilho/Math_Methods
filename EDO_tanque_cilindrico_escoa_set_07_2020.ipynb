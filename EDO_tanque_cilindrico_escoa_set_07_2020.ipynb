{
  "nbformat": 4,
  "nbformat_minor": 0,
  "metadata": {
    "colab": {
      "name": "EDO_tanque_cilindrico_escoa_set_07_2020.ipynb",
      "provenance": [],
      "collapsed_sections": [],
      "authorship_tag": "ABX9TyMwBlFp1j1QXYwkG5N8oFwi",
      "include_colab_link": true
    },
    "kernelspec": {
      "name": "python3",
      "display_name": "Python 3"
    }
  },
  "cells": [
    {
      "cell_type": "markdown",
      "metadata": {
        "id": "view-in-github",
        "colab_type": "text"
      },
      "source": [
        "<a href=\"https://colab.research.google.com/github/ucfilho/Math_Methods/blob/master/EDO_tanque_cilindrico_escoa_set_07_2020.ipynb\" target=\"_parent\"><img src=\"https://colab.research.google.com/assets/colab-badge.svg\" alt=\"Open In Colab\"/></a>"
      ]
    },
    {
      "cell_type": "code",
      "metadata": {
        "id": "7I6ZPuEb_ifj",
        "colab_type": "code",
        "colab": {}
      },
      "source": [
        "from sympy import *"
      ],
      "execution_count": 1,
      "outputs": []
    },
    {
      "cell_type": "code",
      "metadata": {
        "id": "1gNTl2fJ_6PP",
        "colab_type": "code",
        "colab": {}
      },
      "source": [
        "qo= Symbol('qo', positive=True)\n",
        "A= Symbol('A', positive=True)\n",
        "Ao=Symbol('Ao', positive=True)\n",
        "g=Symbol('g', positive=True)"
      ],
      "execution_count": 2,
      "outputs": []
    },
    {
      "cell_type": "code",
      "metadata": {
        "id": "Hzznd-_kAPbA",
        "colab_type": "code",
        "colab": {}
      },
      "source": [
        "h =symbols('h', cls=Function)\n",
        "t= symbols('t')"
      ],
      "execution_count": 3,
      "outputs": []
    },
    {
      "cell_type": "code",
      "metadata": {
        "id": "oDmZvPoKATup",
        "colab_type": "code",
        "colab": {}
      },
      "source": [
        "diffeq = Eq(h(t).diff(t)-qo/A+Ao/A*sqrt(2*g)*sqrt(h(t)),0)"
      ],
      "execution_count": 4,
      "outputs": []
    },
    {
      "cell_type": "code",
      "metadata": {
        "id": "xB-5SgWVBJ6Y",
        "colab_type": "code",
        "colab": {
          "base_uri": "https://localhost:8080/",
          "height": 41
        },
        "outputId": "eaef97c4-e3e3-4e6d-8eba-d578a4fd721b"
      },
      "source": [
        "init_printing(use_unicode=False, wrap_line=False)\n",
        "diffeq"
      ],
      "execution_count": 5,
      "outputs": [
        {
          "output_type": "execute_result",
          "data": {
            "image/png": "[encoded data removed]",
            "text/latex": "$$\\frac{d}{d t} h{\\left (t \\right )} + \\frac{\\sqrt{2} Ao}{A} \\sqrt{g} \\sqrt{h{\\left (t \\right )}} - \\frac{qo}{A} = 0$$",
            "text/plain": [
              "             ___      ___   ______         \n",
              "d          \\/ 2 *Ao*\\/ g *\\/ h(t)    qo    \n",
              "--(h(t)) + ----------------------- - -- = 0\n",
              "dt                    A              A     "
            ]
          },
          "metadata": {
            "tags": []
          },
          "execution_count": 5
        }
      ]
    },
    {
      "cell_type": "code",
      "metadata": {
        "id": "LJW7rxZ6Bmco",
        "colab_type": "code",
        "colab": {}
      },
      "source": [
        "soln = dsolve(diffeq,h(t))"
      ],
      "execution_count": 6,
      "outputs": []
    },
    {
      "cell_type": "code",
      "metadata": {
        "id": "rNRxB6XMBRuw",
        "colab_type": "code",
        "colab": {
          "base_uri": "https://localhost:8080/",
          "height": 47
        },
        "outputId": "633016a3-e487-4b1c-e1be-18e6892b1671"
      },
      "source": [
        "init_printing(use_unicode=False, wrap_line=False)\n",
        "soln"
      ],
      "execution_count": 7,
      "outputs": [
        {
          "output_type": "execute_result",
          "data": {
            "image/png": "[encoded data removed]",
            "text/latex": "$$\\frac{\\sqrt{2}}{Ao \\sqrt{g}} \\sqrt{h{\\left (t \\right )}} + \\frac{qo}{Ao^{2} g} \\log{\\left (\\sqrt{h{\\left (t \\right )}} - \\frac{\\sqrt{2} qo}{2 Ao \\sqrt{g}} \\right )} + \\frac{t}{A} = C_{1}$$",
            "text/plain": [
              "                       /              ___    \\         \n",
              "                       |  ______    \\/ 2 *qo |         \n",
              "                 qo*log|\\/ h(t)  - ----------|         \n",
              "  ___   ______         |                  ___|         \n",
              "\\/ 2 *\\/ h(t)          \\           2*Ao*\\/ g /   t     \n",
              "-------------- + ----------------------------- + - = C1\n",
              "        ___                    2                 A     \n",
              "   Ao*\\/ g                   Ao *g                     "
            ]
          },
          "metadata": {
            "tags": []
          },
          "execution_count": 7
        }
      ]
    },
    {
      "cell_type": "code",
      "metadata": {
        "id": "yP9fLI_bC8hw",
        "colab_type": "code",
        "colab": {}
      },
      "source": [
        "soln=soln.simplify()"
      ],
      "execution_count": 8,
      "outputs": []
    },
    {
      "cell_type": "code",
      "metadata": {
        "id": "r0088KCFEN0g",
        "colab_type": "code",
        "colab": {
          "base_uri": "https://localhost:8080/",
          "height": 47
        },
        "outputId": "10fd5a4c-f970-4397-dac7-3bfde3d36581"
      },
      "source": [
        "init_printing(use_unicode=False, wrap_line=False)\n",
        "soln"
      ],
      "execution_count": 9,
      "outputs": [
        {
          "output_type": "execute_result",
          "data": {
            "image/png": "[encoded data removed]",
            "text/latex": "$$C_{1} = \\frac{\\sqrt{2}}{Ao \\sqrt{g}} \\sqrt{h{\\left (t \\right )}} + \\frac{qo}{Ao^{2} g} \\log{\\left (\\sqrt{h{\\left (t \\right )}} - \\frac{\\sqrt{2} qo}{2 Ao \\sqrt{g}} \\right )} + \\frac{t}{A}$$",
            "text/plain": [
              "                            /              ___    \\    \n",
              "                            |  ______    \\/ 2 *qo |    \n",
              "                      qo*log|\\/ h(t)  - ----------|    \n",
              "       ___   ______         |                  ___|    \n",
              "     \\/ 2 *\\/ h(t)          \\           2*Ao*\\/ g /   t\n",
              "C1 = -------------- + ----------------------------- + -\n",
              "             ___                    2                 A\n",
              "        Ao*\\/ g                   Ao *g                "
            ]
          },
          "metadata": {
            "tags": []
          },
          "execution_count": 9
        }
      ]
    },
    {
      "cell_type": "code",
      "metadata": {
        "id": "DnjbhNDoBOca",
        "colab_type": "code",
        "colab": {
          "base_uri": "https://localhost:8080/",
          "height": 47
        },
        "outputId": "318a0df2-42b4-440e-aaf4-67ae9664d064"
      },
      "source": [
        "init_printing(use_unicode=False, wrap_line=False)\n",
        "H=Symbol('H', positive=True)\n",
        "p1 = soln.subs([(t, 0), (h(0), H)])\n",
        "C1=symbols('C1')\n",
        "solve(p1,C1)"
      ],
      "execution_count": 10,
      "outputs": [
        {
          "output_type": "execute_result",
          "data": {
            "image/png": "[encoded data removed]",
            "text/latex": "$$\\left [ \\frac{\\sqrt{2} \\sqrt{H}}{Ao \\sqrt{g}} + \\frac{qo}{Ao^{2} g} \\log{\\left (\\sqrt{H} - \\frac{\\sqrt{2} qo}{2 Ao \\sqrt{g}} \\right )}\\right ]$$",
            "text/plain": [
              "                     /           ___    \\ \n",
              "                     |  ___    \\/ 2 *qo | \n",
              "               qo*log|\\/ H  - ----------| \n",
              "   ___   ___         |               ___| \n",
              " \\/ 2 *\\/ H          \\        2*Ao*\\/ g / \n",
              "[----------- + --------------------------]\n",
              "        ___                2              \n",
              "   Ao*\\/ g               Ao *g            "
            ]
          },
          "metadata": {
            "tags": []
          },
          "execution_count": 10
        }
      ]
    }
  ]
}