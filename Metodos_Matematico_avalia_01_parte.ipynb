{
  "nbformat": 4,
  "nbformat_minor": 0,
  "metadata": {
    "colab": {
      "name": "Metodos_Matematico_avalia_01_parte.ipynb",
      "provenance": [],
      "authorship_tag": "ABX9TyN2Ax/Zb5ok/2d/cwuf+Vla",
      "include_colab_link": true
    },
    "kernelspec": {
      "name": "python3",
      "display_name": "Python 3"
    }
  },
  "cells": [
    {
      "cell_type": "markdown",
      "metadata": {
        "id": "view-in-github",
        "colab_type": "text"
      },
      "source": [
        "<a href=\"https://colab.research.google.com/github/ucfilho/Math_Methods/blob/master/Metodos_Matematico_avalia_01_parte.ipynb\" target=\"_parent\"><img src=\"https://colab.research.google.com/assets/colab-badge.svg\" alt=\"Open In Colab\"/></a>"
      ]
    },
    {
      "cell_type": "markdown",
      "metadata": {
        "id": "CVEexg3Z0S9u"
      },
      "source": [
        "A população de uma espécie de peixe em um lago é modelada pela equação logística com\n",
        "taxa de crescimento intrínseco k = 0.2 ano−1 e capacidade de carga de N = 1000 peixes. (a) Escreva a\n",
        "equação diferencial que descreve a taxa de crescimento da população de peixes; (b) Considerando que\n",
        "inicialmente existem 300 peixes no lago, encontre uma expressão para o número de peixes no lago ao\n",
        "longo do tempo. Utilize o resultado para estimar o número de peixes após 5 anos, (d) Considere agora\n",
        "que a cada ano 50 peixes sejam pescados (retirados do lago) e ajuste o modelo logístico para considerar\n",
        "esta situação e discuta qual a quantidade máxima de peixes que pode ser retirada do lago por ano de\n",
        "forma que a população se mantenha a mesma. e) considerando o interesse que a retirada 50 peixes seja\n",
        "algo desejável (para garantir a alimentação de animais e pessoas) discuta se nesta condição existe uma\n",
        "população inicial de peixes que garante esta retirada seja algo possível de ser realizado sem alterar a\n",
        "população de peixes ano após ano"
      ]
    },
    {
      "cell_type": "code",
      "metadata": {
        "colab": {
          "base_uri": "https://localhost:8080/"
        },
        "id": "Ldrl_5nhzIpd",
        "outputId": "1ec801c5-964b-480f-e87d-5c94a45a9790"
      },
      "source": [
        "import numpy as np\n",
        "from scipy.integrate import odeint\n",
        "# function that returns dy/dt\n",
        "def model(y,t):\n",
        "    k = 0.2; ym = 1000;\n",
        "    dydt = k * y*(1-y/ym)\n",
        "    return dydt\n",
        "\n",
        "# initial condition\n",
        "y0 = 300;ym=1000\n",
        "\n",
        "# time points\n",
        "t = [0,5];k=0.2;ym=1000;\n",
        "N = ym/(1+(ym/y0-1)*np.exp(-k*t[1])) # solucao analitica\n",
        "# solve ODE\n",
        "y = odeint(model,y0,t)\n",
        "print('peixes em',t[1],' anos =',y[1],'solucao numerica')\n",
        "print('peixes em',t[1],' anos =',N,'solucao exata')\n",
        "\n",
        "# function that returns dy/dt\n",
        "def model2(y,t):\n",
        "    k = 0.2; ym = 1000;\n",
        "    dydt = k * y*(1-y/ym)-50\n",
        "    return dydt\n",
        "\n",
        "# initial condition\n",
        "y0 = 333;ym=1000\n",
        "\n",
        "# time points\n",
        "t = [0,1];k=0.2;ym=1000;\n",
        "N = 500+1/( k*t[1]/ym-1/200) # solucao analitica\n",
        "# solve ODE\n",
        "y = odeint(model2,y0,t)\n",
        "print('peixes em',t[1],' anos =',y[1],'solucao numerica')\n",
        "print('peixes em',t[1],' anos =',N,'solucao exata')"
      ],
      "execution_count": 41,
      "outputs": [
        {
          "output_type": "stream",
          "text": [
            "peixes em 5  anos = [538.10152501] solucao numerica\n",
            "peixes em 5  anos = 538.1015262244489 solucao exata\n",
            "peixes em 1  anos = [327.22946326] solucao numerica\n",
            "peixes em 1  anos = 291.6666666666667 solucao exata\n"
          ],
          "name": "stdout"
        }
      ]
    },
    {
      "cell_type": "code",
      "metadata": {
        "id": "CueWHFSGH7eR"
      },
      "source": [
        "import numpy as np\n",
        "from scipy.integrate import odeint\n",
        "# function that returns dy/dt\n",
        "def model(y,t):\n",
        "    k = 0.2; ym = 1000;\n",
        "    dydt = k * y*(1-y/ym)\n",
        "    return dydt\n",
        "\n",
        "# initial condition\n",
        "y0 = 300;ym=1000\n",
        "\n",
        "# time points\n",
        "t = [0,5];k=0.2;ym=1000;\n",
        "N = ym/(1+(ym/y0-1)*np.exp(-k*t[1])) # solucao analitica\n",
        "# solve ODE\n",
        "y = odeint(model,y0,t)\n",
        "print('peixes em',t[1],' anos =',y[1],'solucao numerica')\n",
        "print('peixes em',t[1],' anos =',N,'solucao exata')\n"
      ],
      "execution_count": null,
      "outputs": []
    }
  ]
}