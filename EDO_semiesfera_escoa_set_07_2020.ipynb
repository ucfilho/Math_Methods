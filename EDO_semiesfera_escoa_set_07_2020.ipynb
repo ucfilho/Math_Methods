{
  "nbformat": 4,
  "nbformat_minor": 0,
  "metadata": {
    "colab": {
      "name": "EDO_semiesfera_escoa_set_07_2020.ipynb",
      "provenance": [],
      "collapsed_sections": [],
      "authorship_tag": "ABX9TyN2SF4EBx0A1xoEgkmFmsON",
      "include_colab_link": true
    },
    "kernelspec": {
      "name": "python3",
      "display_name": "Python 3"
    }
  },
  "cells": [
    {
      "cell_type": "markdown",
      "metadata": {
        "id": "view-in-github",
        "colab_type": "text"
      },
      "source": [
        "<a href=\"https://colab.research.google.com/github/ucfilho/Math_Methods/blob/master/EDO_semiesfera_escoa_set_07_2020.ipynb\" target=\"_parent\"><img src=\"https://colab.research.google.com/assets/colab-badge.svg\" alt=\"Open In Colab\"/></a>"
      ]
    },
    {
      "cell_type": "code",
      "metadata": {
        "id": "7I6ZPuEb_ifj",
        "colab_type": "code",
        "colab": {}
      },
      "source": [
        "from sympy import *"
      ],
      "execution_count": null,
      "outputs": []
    },
    {
      "cell_type": "code",
      "metadata": {
        "id": "1gNTl2fJ_6PP",
        "colab_type": "code",
        "colab": {}
      },
      "source": [
        "g= Symbol('g', positive=True)\n",
        "R= Symbol('R', positive=True)\n",
        "ro= Symbol('ro', positive=True)\n",
        "c= Symbol('c', positive=True)"
      ],
      "execution_count": null,
      "outputs": []
    },
    {
      "cell_type": "code",
      "metadata": {
        "id": "Hzznd-_kAPbA",
        "colab_type": "code",
        "colab": {}
      },
      "source": [
        "h =symbols('h', cls=Function)\n",
        "t= symbols('t')"
      ],
      "execution_count": null,
      "outputs": []
    },
    {
      "cell_type": "code",
      "metadata": {
        "id": "oDmZvPoKATup",
        "colab_type": "code",
        "colab": {}
      },
      "source": [
        "diffeq = Eq((2*h(t)*R-h(t)**2)*h(t).diff(t) , -c*sqrt(2*g*h(t))*ro**2)"
      ],
      "execution_count": null,
      "outputs": []
    },
    {
      "cell_type": "code",
      "metadata": {
        "id": "xB-5SgWVBJ6Y",
        "colab_type": "code",
        "colab": {
          "base_uri": "https://localhost:8080/",
          "height": 34
        },
        "outputId": "a8549b89-5444-42fe-f472-5bafec2fdd3e"
      },
      "source": [
        "diffeq"
      ],
      "execution_count": null,
      "outputs": [
        {
          "output_type": "execute_result",
          "data": {
            "text/plain": [
              "Eq((2*R*h(t) - h(t)**2)*Derivative(h(t), t), -sqrt(2)*c*sqrt(g)*ro**2*sqrt(h(t)))"
            ]
          },
          "metadata": {
            "tags": []
          },
          "execution_count": 5
        }
      ]
    },
    {
      "cell_type": "code",
      "metadata": {
        "id": "LJW7rxZ6Bmco",
        "colab_type": "code",
        "colab": {}
      },
      "source": [
        "soln = dsolve(diffeq,h(t))"
      ],
      "execution_count": null,
      "outputs": []
    },
    {
      "cell_type": "code",
      "metadata": {
        "id": "rNRxB6XMBRuw",
        "colab_type": "code",
        "colab": {
          "base_uri": "https://localhost:8080/",
          "height": 54
        },
        "outputId": "38694790-e959-425b-db00-a901d2124805"
      },
      "source": [
        "soln"
      ],
      "execution_count": null,
      "outputs": [
        {
          "output_type": "execute_result",
          "data": {
            "text/plain": [
              "Eq(-32*sqrt(2)*R**(7/2)/(15*h(t)) - 16*sqrt(2)*R**(5/2)*(-2*R + h(t))/(15*h(t)) + 32*R**3/(15*sqrt(h(t))) + 8*R**2*(-2*R + h(t))/(15*sqrt(h(t))) - 16*R*(-2*R + h(t))**2/(15*sqrt(h(t))) + sqrt(2)*c*sqrt(g)*ro**2*t - 2*(-2*R + h(t))**3/(5*sqrt(h(t))), C1)"
            ]
          },
          "metadata": {
            "tags": []
          },
          "execution_count": 7
        }
      ]
    },
    {
      "cell_type": "code",
      "metadata": {
        "id": "yP9fLI_bC8hw",
        "colab_type": "code",
        "colab": {}
      },
      "source": [
        "soln=soln.simplify()"
      ],
      "execution_count": null,
      "outputs": []
    },
    {
      "cell_type": "code",
      "metadata": {
        "id": "r0088KCFEN0g",
        "colab_type": "code",
        "colab": {
          "base_uri": "https://localhost:8080/",
          "height": 34
        },
        "outputId": "30b5ed0f-c47f-47d3-c9e5-37ccf45c0149"
      },
      "source": [
        "soln"
      ],
      "execution_count": null,
      "outputs": [
        {
          "output_type": "execute_result",
          "data": {
            "text/plain": [
              "Eq(C1, -16*sqrt(2)*R**(5/2)/15 + 4*R*h(t)**(3/2)/3 + sqrt(2)*c*sqrt(g)*ro**2*t - 2*h(t)**(5/2)/5)"
            ]
          },
          "metadata": {
            "tags": []
          },
          "execution_count": 9
        }
      ]
    },
    {
      "cell_type": "code",
      "metadata": {
        "id": "DnjbhNDoBOca",
        "colab_type": "code",
        "colab": {
          "base_uri": "https://localhost:8080/",
          "height": 57
        },
        "outputId": "15cba48f-6360-401e-ae4e-960cd3a636b5"
      },
      "source": [
        "init_printing(use_unicode=False, wrap_line=False)\n",
        "p1 = soln.subs([(t, 0), (h(0), R)])\n",
        "C1=symbols('C1')\n",
        "solve(p1,C1)"
      ],
      "execution_count": null,
      "outputs": [
        {
          "output_type": "execute_result",
          "data": {
            "image/png": "[encoded data removed]",
            "text/latex": "$$\\left [ \\frac{2 R^{\\frac{5}{2}}}{15} \\left(- 8 \\sqrt{2} + 7\\right)\\right ]$$",
            "text/plain": [
              "    5/2 /      ___    \\ \n",
              " 2*R   *\\- 8*\\/ 2  + 7/ \n",
              "[----------------------]\n",
              "           15           "
            ]
          },
          "metadata": {
            "tags": []
          },
          "execution_count": 12
        }
      ]
    },
    {
      "cell_type": "code",
      "metadata": {
        "id": "qq7Bp6eiYVNA",
        "colab_type": "code",
        "colab": {}
      },
      "source": [
        "# a solucao para semiesfera do sympy esta errada!!!!"
      ],
      "execution_count": null,
      "outputs": []
    },
    {
      "cell_type": "code",
      "metadata": {
        "id": "9IueoXX3SPLI",
        "colab_type": "code",
        "colab": {
          "base_uri": "https://localhost:8080/",
          "height": 44
        },
        "outputId": "9b9dce7e-5280-4478-8b74-39f8d5e4fa59"
      },
      "source": [
        "init_printing(use_unicode=False, wrap_line=False)\n",
        "h= Symbol('h')\n",
        "R= Symbol('R', positive=True)\n",
        "integrate((2*R*h - h**2)/sqrt(h), h)"
      ],
      "execution_count": null,
      "outputs": [
        {
          "output_type": "execute_result",
          "data": {
            "image/png": "[encoded data removed]",
            "text/latex": "$$\\frac{4 R}{3} h^{\\frac{3}{2}} - \\frac{2 h^{\\frac{5}{2}}}{5}$$",
            "text/plain": [
              "     3/2      5/2\n",
              "4*R*h      2*h   \n",
              "-------- - ------\n",
              "   3         5   "
            ]
          },
          "metadata": {
            "tags": []
          },
          "execution_count": 11
        }
      ]
    }
  ]
}