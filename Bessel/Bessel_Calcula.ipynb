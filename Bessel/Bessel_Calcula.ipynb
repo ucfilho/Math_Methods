{
  "nbformat": 4,
  "nbformat_minor": 0,
  "metadata": {
    "colab": {
      "name": "Bessel_Calcula.ipynb",
      "provenance": [],
      "authorship_tag": "ABX9TyMKi1V3Ol8dJXWSOvTlgi4r",
      "include_colab_link": true
    },
    "kernelspec": {
      "name": "python3",
      "display_name": "Python 3"
    },
    "language_info": {
      "name": "python"
    }
  },
  "cells": [
    {
      "cell_type": "markdown",
      "metadata": {
        "id": "view-in-github",
        "colab_type": "text"
      },
      "source": [
        "<a href=\"https://colab.research.google.com/github/ucfilho/Math_Methods/blob/master/Bessel/Bessel_Calcula.ipynb\" target=\"_parent\"><img src=\"https://colab.research.google.com/assets/colab-badge.svg\" alt=\"Open In Colab\"/></a>"
      ]
    },
    {
      "cell_type": "code",
      "execution_count": 57,
      "metadata": {
        "id": "fYSb5JDTIoI3"
      },
      "outputs": [],
      "source": [
        "import matplotlib.pyplot as plt\n",
        "import scipy.special as sp\n",
        "import numpy as np"
      ]
    },
    {
      "cell_type": "code",
      "source": [
        "def fun(v,z):\n",
        "  y = sp.jv(v,z)\n",
        "  #y = sp.yv(v,z)\n",
        "  #y = sp.kv(v,z)\n",
        "  return y"
      ],
      "metadata": {
        "id": "nWqpjQpBI3nL"
      },
      "execution_count": 58,
      "outputs": []
    },
    {
      "cell_type": "code",
      "source": [
        "x_lista = np.linspace(0.01,20,100)\n",
        "y_lista = []\n",
        "p = 1\n",
        "for x in x_lista:\n",
        "  y = fun(p,x)\n",
        "  y_lista.append(y)\n",
        "\n"
      ],
      "metadata": {
        "id": "lSGvS_OTJABj"
      },
      "execution_count": 59,
      "outputs": []
    },
    {
      "cell_type": "code",
      "source": [
        "#plt.ylim(-1,2)\n",
        "plt.plot(x_lista,y_lista)"
      ],
      "metadata": {
        "colab": {
          "base_uri": "https://localhost:8080/",
          "height": 282
        },
        "id": "3EeMbiolJk08",
        "outputId": "20d298fb-6be7-45bf-a794-34aaeb75a892"
      },
      "execution_count": 60,
      "outputs": [
        {
          "output_type": "execute_result",
          "data": {
            "text/plain": [
              "[<matplotlib.lines.Line2D at 0x7ff10f979ed0>]"
            ]
          },
          "metadata": {},
          "execution_count": 60
        },
        {
          "output_type": "display_data",
          "data": {
            "text/plain": [
              "<Figure size 432x288 with 1 Axes>"
            ],
            "image/png": "[encoded data removed]"
          },
          "metadata": {
            "needs_background": "light"
          }
        }
      ]
    },
    {
      "cell_type": "code",
      "source": [
        "bessel = fun(0,5)\n",
        "print(bessel)"
      ],
      "metadata": {
        "colab": {
          "base_uri": "https://localhost:8080/"
        },
        "id": "SToC7kxDNfo8",
        "outputId": "40472779-908a-46a9-cec7-3d221439854b"
      },
      "execution_count": 61,
      "outputs": [
        {
          "output_type": "stream",
          "name": "stdout",
          "text": [
            "-0.17759677131433838\n"
          ]
        }
      ]
    }
  ]
}