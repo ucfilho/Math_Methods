{
  "nbformat": 4,
  "nbformat_minor": 0,
  "metadata": {
    "colab": {
      "name": "ODE_aquece_reatores_abril_15_2019.ipynb",
      "version": "0.3.2",
      "provenance": [],
      "include_colab_link": true
    },
    "kernelspec": {
      "name": "python3",
      "display_name": "Python 3"
    }
  },
  "cells": [
    {
      "cell_type": "markdown",
      "metadata": {
        "id": "view-in-github",
        "colab_type": "text"
      },
      "source": [
        "<a href=\"https://colab.research.google.com/github/ucfilho/Math_Methods/blob/master/ODE_aquece_reatores_abril_15_2019.ipynb\" target=\"_parent\"><img src=\"https://colab.research.google.com/assets/colab-badge.svg\" alt=\"Open In Colab\"/></a>"
      ]
    },
    {
      "metadata": {
        "id": "4cPZOABORwnr",
        "colab_type": "code",
        "colab": {}
      },
      "cell_type": "code",
      "source": [
        "import numpy as np\n",
        "from scipy.integrate import odeint\n",
        "%matplotlib notebook\n",
        "import matplotlib.pyplot as plt"
      ],
      "execution_count": 0,
      "outputs": []
    },
    {
      "metadata": {
        "id": "8FfQB-FrUgWA",
        "colab_type": "code",
        "colab": {}
      },
      "cell_type": "code",
      "source": [
        "# funtion that return dy/dt\n",
        "def fun(y,t):\n",
        "  dydt=np.zeros(2)\n",
        "  ro=40\n",
        "  cp=0.6\n",
        "  F0=90\n",
        "  Q1=10000\n",
        "  V1=450\n",
        "  V2=450\n",
        "  T0=64\n",
        "  T1=y[0]\n",
        "  T2=y[1]\n",
        "  dydt[0]=F0/V1*(T0-T1)+Q1/(ro*cp*V1)\n",
        "  dydt[1]=F0/V1*(T1-T2)\n",
        "  return dydt"
      ],
      "execution_count": 0,
      "outputs": []
    },
    {
      "metadata": {
        "id": "dme1PFNQVzVD",
        "colab_type": "code",
        "colab": {
          "base_uri": "https://localhost:8080/",
          "height": 283
        },
        "outputId": "7f630bf4-dce4-432e-d2ca-ccc3c07d5f27"
      },
      "cell_type": "code",
      "source": [
        "y0=[64,64]\n",
        "t=np.linspace(0,300,num=1000)\n",
        "y=odeint(fun,y0,t)\n",
        "%matplotlib inline\n",
        "plt.plot(t,y)\n",
        "plt.xlabel(\"time\")\n",
        "plt.ylabel(\"Temperature-C\")\n",
        "plt.show()"
      ],
      "execution_count": 3,
      "outputs": [
        {
          "output_type": "display_data",
          "data": {
            "image/png": "[encoded data removed]",
            "text/plain": [
              "<Figure size 432x288 with 1 Axes>"
            ]
          },
          "metadata": {
            "tags": []
          }
        }
      ]
    }
  ]
}